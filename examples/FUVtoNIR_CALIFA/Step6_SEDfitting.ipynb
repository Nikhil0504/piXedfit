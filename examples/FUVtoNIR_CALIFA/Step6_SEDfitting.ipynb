{
 "cells": [
  {
   "cell_type": "markdown",
   "metadata": {},
   "source": [
    "# 6. SED fitting to spatial bins\n",
    "\n",
    "<font size=\"4\"> In this step, we will perform SED fitting to each spatial bin in the binned spectrophotometric data cube we obtained from the Step 5. This SED fitting can be performed using functions in the `piXedfit_fitting` module. We will also learn how to check (i.e., analyze) fitting results using visualization features provided in the `piXedfit_analysis` module. </font>"
   ]
  },
  {
   "cell_type": "code",
   "execution_count": 1,
   "metadata": {},
   "outputs": [],
   "source": [
    "import numpy as np\n",
    "from astropy.io import fits\n",
    "import os, sys\n",
    "import matplotlib.pyplot as plt\n",
    "\n",
    "global PIXEDFIT_HOME\n",
    "PIXEDFIT_HOME = os.environ['PIXEDFIT_HOME']\n",
    "sys.path.insert(0, PIXEDFIT_HOME)\n",
    "\n",
    "%matplotlib inline"
   ]
  },
  {
   "cell_type": "markdown",
   "metadata": {},
   "source": [
    "<font size=\"4\"> There are several functions available in the `piXedfit_fitting` module that can be used for performing SED fitting, depending on the type of data we have. If we have a single SED or a collection of them, but we want to fit the SEDs one by one, we can use `singleSEDfit` function (for photometric SED) or `singleSEDfit_specphoto` (for spectrophotometric SED). If we have a 3D data cube obtained after image processing and pixel binning, we can use `SEDfit_from_binmap` (for photometric data cube) or `SEDfit_from_binmap_specphoto` (for spectrphotmetric data cube). We can also perform SED fitting to individual pixels in the data cube after image processing (before pixel binning) using `SEDfit_pixels_from_fluxmap` function. Please refer to the API references for more information about these functions. \n",
    "    \n",
    "Since we have a spectrophotometric data cube in this tutorial, we will use `SEDfit_from_binmap_specphoto` for fitting the SEDs of individual spatial bins. An example of script for doing this is given below. In this script, `binid_range` determines the spatial bins that are going to be fit. With this, we can separate calculations into multiple terminals (i.e., processes) on a multi cores server or super computer.  \n",
    "    \n",
    "`models_spec` is a HDF5 file containing a set of model spectra at rest-frame that is generated using `piXedfit.piXedfit_model.save_models_rest_spec` function. Please refer to  \n",
    "</font>"
   ]
  },
  {
   "cell_type": "code",
   "execution_count": null,
   "metadata": {},
   "outputs": [],
   "source": [
    "# Script 1\n",
    "from piXedfit.piXedfit_fitting import SEDfit_from_binmap_specphoto\n",
    "\n",
    "fits_binmap = \"pixbin_corr_specphoto_fluxmap_ngc309.fits\"\n",
    "binid_range = [0,10]\n",
    "models_spec = \"model_rest_spec.hdf5\"     # set of model rest-frame spectra  \n",
    "\n",
    "# define priors using function priors\n",
    "from piXedfit.piXedfit_fitting import priors\n",
    "\n",
    "# define range of values for some parameters   \n",
    "ranges = {'logzsol':[-2.0,0.2], 'dust1':[0.0,3.0], 'dust2':[0.0,3.0], 'log_age':[-3.0,1.14]}\n",
    "pr = priors(ranges)\n",
    "params_ranges = pr.params_ranges()\n",
    "\n",
    "prior1 = pr.uniform('logzsol')\n",
    "prior2 = pr.uniform('dust1')\n",
    "prior3 = pr.uniform('dust2')\n",
    "prior4 = pr.uniform('log_age')\n",
    "params_priors = [prior1, prior2, prior3, prior4]\n",
    "\n",
    "fit_method = 'mcmc'\n",
    "\n",
    "SEDfit_from_binmap_specphoto(fits_binmap, binid_range=binid_range, models_spec=models_spec,\n",
    "                             params_ranges=params_ranges, params_priors=params_priors,\n",
    "                             fit_method=fit_method, spec_sigma=2.6, poly_order=10, nwalkers=100,\n",
    "                             nsteps=700, nproc=10, initfit_nmodels_mcmc=50000, cosmo=0, H0=70.0, Om0=0.3,\n",
    "                             store_full_samplers=1)"
   ]
  }
 ],
 "metadata": {
  "kernelspec": {
   "display_name": "Python 3",
   "language": "python",
   "name": "python3"
  },
  "language_info": {
   "codemirror_mode": {
    "name": "ipython",
    "version": 3
   },
   "file_extension": ".py",
   "mimetype": "text/x-python",
   "name": "python",
   "nbconvert_exporter": "python",
   "pygments_lexer": "ipython3",
   "version": "3.6.10"
  }
 },
 "nbformat": 4,
 "nbformat_minor": 4
}
